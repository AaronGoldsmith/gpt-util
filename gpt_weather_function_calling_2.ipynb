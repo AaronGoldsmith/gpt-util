{
  "nbformat": 4,
  "nbformat_minor": 0,
  "metadata": {
    "colab": {
      "provenance": [],
      "authorship_tag": "ABX9TyNz5yVX5Dvql9fqQJnn8iSV",
      "include_colab_link": true
    },
    "kernelspec": {
      "name": "python3",
      "display_name": "Python 3"
    },
    "language_info": {
      "name": "python"
    }
  },
  "cells": [
    {
      "cell_type": "markdown",
      "metadata": {
        "id": "view-in-github",
        "colab_type": "text"
      },
      "source": [
        "<a href=\"https://colab.research.google.com/github/AaronGoldsmith/gpt-util/blob/main/gpt_weather_function_calling_2.ipynb\" target=\"_parent\"><img src=\"https://colab.research.google.com/assets/colab-badge.svg\" alt=\"Open In Colab\"/></a>"
      ]
    },
    {
      "cell_type": "code",
      "source": [
        "%pip install openai pyairtable"
      ],
      "metadata": {
        "colab": {
          "base_uri": "https://localhost:8080/"
        },
        "id": "NtLOucjPqVoN",
        "outputId": "13ecfbd2-1ddc-43ca-c3db-8984445bc5cb"
      },
      "execution_count": 8,
      "outputs": [
        {
          "output_type": "stream",
          "name": "stdout",
          "text": [
            "Looking in indexes: https://pypi.org/simple, https://us-python.pkg.dev/colab-wheels/public/simple/\n",
            "Requirement already satisfied: openai in /usr/local/lib/python3.10/dist-packages (0.27.8)\n",
            "Collecting pyairtable\n",
            "  Downloading pyairtable-1.5.0-py2.py3-none-any.whl (27 kB)\n",
            "Requirement already satisfied: requests>=2.20 in /usr/local/lib/python3.10/dist-packages (from openai) (2.27.1)\n",
            "Requirement already satisfied: tqdm in /usr/local/lib/python3.10/dist-packages (from openai) (4.65.0)\n",
            "Requirement already satisfied: aiohttp in /usr/local/lib/python3.10/dist-packages (from openai) (3.8.4)\n",
            "Requirement already satisfied: urllib3<2 in /usr/local/lib/python3.10/dist-packages (from pyairtable) (1.26.15)\n",
            "Requirement already satisfied: certifi>=2017.4.17 in /usr/local/lib/python3.10/dist-packages (from requests>=2.20->openai) (2022.12.7)\n",
            "Requirement already satisfied: charset-normalizer~=2.0.0 in /usr/local/lib/python3.10/dist-packages (from requests>=2.20->openai) (2.0.12)\n",
            "Requirement already satisfied: idna<4,>=2.5 in /usr/local/lib/python3.10/dist-packages (from requests>=2.20->openai) (3.4)\n",
            "Requirement already satisfied: attrs>=17.3.0 in /usr/local/lib/python3.10/dist-packages (from aiohttp->openai) (23.1.0)\n",
            "Requirement already satisfied: multidict<7.0,>=4.5 in /usr/local/lib/python3.10/dist-packages (from aiohttp->openai) (6.0.4)\n",
            "Requirement already satisfied: async-timeout<5.0,>=4.0.0a3 in /usr/local/lib/python3.10/dist-packages (from aiohttp->openai) (4.0.2)\n",
            "Requirement already satisfied: yarl<2.0,>=1.0 in /usr/local/lib/python3.10/dist-packages (from aiohttp->openai) (1.9.2)\n",
            "Requirement already satisfied: frozenlist>=1.1.1 in /usr/local/lib/python3.10/dist-packages (from aiohttp->openai) (1.3.3)\n",
            "Requirement already satisfied: aiosignal>=1.1.2 in /usr/local/lib/python3.10/dist-packages (from aiohttp->openai) (1.3.1)\n",
            "Installing collected packages: pyairtable\n",
            "Successfully installed pyairtable-1.5.0\n"
          ]
        }
      ]
    },
    {
      "cell_type": "code",
      "source": [
        "from getpass import getpass\n",
        "import openai\n",
        "import json\n",
        "\n",
        "openai.api_key = getpass(\"API KEY\")\n"
      ],
      "metadata": {
        "colab": {
          "base_uri": "https://localhost:8080/"
        },
        "id": "VlgLGD_bqPOV",
        "outputId": "faa387b4-ed9f-4c03-c7da-714fc946b1b1"
      },
      "execution_count": 3,
      "outputs": [
        {
          "name": "stdout",
          "output_type": "stream",
          "text": [
            "API KEY··········\n"
          ]
        }
      ]
    },
    {
      "cell_type": "code",
      "source": [
        "import ossaudiodev\n",
        "import requests\n",
        "from requests.structures import CaseInsensitiveDict\n",
        "geoapify_key = getpass(\"GeoAPIfy API key: \")"
      ],
      "metadata": {
        "colab": {
          "base_uri": "https://localhost:8080/"
        },
        "id": "vaMc2c0NrJ14",
        "outputId": "3f1fb5de-94f6-422e-a2cf-355ac31aa126"
      },
      "execution_count": 4,
      "outputs": [
        {
          "name": "stdout",
          "output_type": "stream",
          "text": [
            "GeoAPIfy API key: ··········\n"
          ]
        }
      ]
    },
    {
      "cell_type": "code",
      "source": [
        "owm_api_key = getpass(\"Open Weather Map API key: \")"
      ],
      "metadata": {
        "colab": {
          "base_uri": "https://localhost:8080/"
        },
        "id": "X7-IFcYoMGFp",
        "outputId": "63eed151-1756-42a1-a34c-fbf4f6127052"
      },
      "execution_count": 5,
      "outputs": [
        {
          "name": "stdout",
          "output_type": "stream",
          "text": [
            "Open Weather Map API key: ··········\n"
          ]
        }
      ]
    },
    {
      "cell_type": "code",
      "source": [
        "import logging\n",
        "import json\n",
        "import openai\n",
        "\n",
        "# Setup logging\n",
        "logging.basicConfig(level=logging.INFO)\n",
        "logger = logging.getLogger()\n",
        "logger.setLevel(logging.INFO)\n",
        "# logger.setLevel(logging.DEBUG)"
      ],
      "metadata": {
        "id": "10B0ikf649XD"
      },
      "execution_count": 6,
      "outputs": []
    },
    {
      "cell_type": "code",
      "source": [
        "def request_forecast_at_location(lat, lon):\n",
        "  query = f\"https://api.openweathermap.org/data/2.5/weather?lat={lat}&lon={lon}&appid={owm_api_key}\"\n",
        "\n",
        "  try:\n",
        "    response = requests.get(query)\n",
        "  except Exception as E:\n",
        "    logging.warn(E)\n",
        "  return json.dumps(response.json()[\"main\"])"
      ],
      "metadata": {
        "id": "ONu_DLLaOnhX"
      },
      "execution_count": 7,
      "outputs": []
    },
    {
      "cell_type": "code",
      "source": [
        "from pyairtable import Table\n",
        "import datetime"
      ],
      "metadata": {
        "id": "4q8qCcktEIMV"
      },
      "execution_count": 9,
      "outputs": []
    },
    {
      "cell_type": "code",
      "source": [
        "airtable_api_key = getpass(\"Airtable API key: \")"
      ],
      "metadata": {
        "colab": {
          "base_uri": "https://localhost:8080/"
        },
        "id": "scjCgN_XElQ9",
        "outputId": "3beb7dc5-d67f-4e55-b9e9-3a170e93cec6"
      },
      "execution_count": 25,
      "outputs": [
        {
          "name": "stdout",
          "output_type": "stream",
          "text": [
            "Airtable API key: ··········\n"
          ]
        }
      ]
    },
    {
      "cell_type": "code",
      "source": [
        "APPLICATION_ID = \"appjyAU0r4Lw6Cj6K\"\n",
        "TABLE_ID = \"tblPxw9vYfQUt7g19\"\n",
        "\n",
        "table = Table(airtable_api_key, APPLICATION_ID, TABLE_ID)\n",
        "\n",
        "def add_weather_to_airtable(location, temperature, weather_summary):\n",
        "  current_date = str(datetime.date.today())\n",
        "  payload = {\n",
        "    \"Location\": location,\n",
        "    \"Date\": current_date,\n",
        "    \"Temperature\": temperature,\n",
        "    \"Forecast\": weather_summary,\n",
        "  }\n",
        "  table.create(payload)\n",
        "  return f\"created with payload: {payload}\"\n",
        ""
      ],
      "metadata": {
        "id": "BWKd7hPcEwrx"
      },
      "execution_count": 55,
      "outputs": []
    },
    {
      "cell_type": "code",
      "source": [
        "add_weather_to_airtable(\"Oakland, CA\",\"61\",\"Partly cloudy\")"
      ],
      "metadata": {
        "colab": {
          "base_uri": "https://localhost:8080/",
          "height": 35
        },
        "id": "dAvinScNH9qR",
        "outputId": "ccc93926-dad3-49f1-ba43-a2afb4703069"
      },
      "execution_count": 56,
      "outputs": [
        {
          "output_type": "execute_result",
          "data": {
            "text/plain": [
              "\"created with payload: {'Location': 'Oakland, CA', 'Date': '2023-06-20', 'Temperature': '61', 'Forecast': 'Partly cloudy'}\""
            ],
            "application/vnd.google.colaboratory.intrinsic+json": {
              "type": "string"
            }
          },
          "metadata": {},
          "execution_count": 56
        }
      ]
    },
    {
      "cell_type": "code",
      "source": [
        "def reverse_geo_lookup(location, limit=5):\n",
        "  url = f\"https://api.geoapify.com/v1/geocode/search?text={location}&apiKey={geoapify_key}\"\n",
        "\n",
        "  headers = CaseInsensitiveDict()\n",
        "  headers[\"Accept\"] = \"application/json\"\n",
        "\n",
        "  try:\n",
        "    response = requests.get(url, headers=headers)\n",
        "    features = response.json()['features']\n",
        "    results = []\n",
        "\n",
        "    for result in features[:limit]:\n",
        "      prop = result[\"properties\"]\n",
        "      if 'city' in prop:\n",
        "        results.append({\n",
        "          \"city\": prop[\"city\"],\n",
        "          \"state\": prop[\"state\"],\n",
        "          \"formatted\": prop[\"formatted\"],\n",
        "          \"lat\": prop[\"lat\"],\n",
        "          \"lon\": prop[\"lon\"],\n",
        "          \"popularity\": prop[\"rank\"][\"popularity\"]\n",
        "        })\n",
        "  except Exception as e:\n",
        "    print(e)\n",
        "\n",
        "  return json.dumps(results)"
      ],
      "metadata": {
        "id": "cMJGP0xYOpbr"
      },
      "execution_count": 20,
      "outputs": []
    },
    {
      "cell_type": "code",
      "source": [
        "function_descriptions = [\n",
        "        {\n",
        "            \"name\": \"request_forecast_at_location\",\n",
        "            \"description\": \"Get the current weather at a given latitude / longitutde.\",\n",
        "            \"parameters\": {\n",
        "                \"type\": \"object\",\n",
        "                \"properties\": {\n",
        "                    \"lat\": {\n",
        "                        \"type\": \"string\",\n",
        "                        \"description\": \"The latitudinal coordinate of the location\",\n",
        "                    },\n",
        "                    \"lon\": {\n",
        "                        \"type\": \"string\",\n",
        "                        \"description\": \"The longitudinal coordinate of the location\",\n",
        "                    },\n",
        "                },\n",
        "                \"required\": [\"lat\", \"lon\"],\n",
        "            },\n",
        "        },\n",
        "         {\n",
        "          \"name\": \"reverse_geo_lookup\",\n",
        "          \"description\":\n",
        "          \"Lookup a latitude and longitude from a city, address, or zipcode\",\n",
        "          \"parameters\": {\n",
        "            \"type\": \"object\",\n",
        "            \"properties\": {\n",
        "              \"location\": {\n",
        "                \"type\": \"string\",\n",
        "                \"description\": \"the location to perform the reverse geo_lookup on\"\n",
        "              },\n",
        "              \"limit\":{\n",
        "                  \"type\": \"string\",\n",
        "                  \"description\": \"the number of results to return (default 1)\"\n",
        "              },\n",
        "            },\n",
        "            \"required\": [\"location\"],\n",
        "          }\n",
        "        },\n",
        "        {\n",
        "         \"name\": \"add_weather_to_airtable\",\n",
        "          \"description\": \"Useful when you need to save weather details to  to Airtable\",\n",
        "          \"parameters\": {\n",
        "            \"type\": \"object\",\n",
        "            \"properties\": {\n",
        "              \"location\": {\n",
        "                \"type\": \"string\",\n",
        "                \"description\": \"The city/state  for the weather report.\"\n",
        "              },\n",
        "              \"temperature\": {\n",
        "                \"type\": \"string\",\n",
        "                \"description\": \"the temperature in degrees farenheit\"\n",
        "              },\n",
        "              \"weather_summary\": {\n",
        "                \"type\": \"string\",\n",
        "                \"description\": \"Current weather summary at a specified location\"\n",
        "              },\n",
        "            },\n",
        "            \"required\": [\"location\", \"temperature\", \"weather_summary\"],\n",
        "          },\n",
        "        }\n",
        "    ]"
      ],
      "metadata": {
        "id": "FRUE-kmbO0iY"
      },
      "execution_count": 34,
      "outputs": []
    },
    {
      "cell_type": "code",
      "source": [
        "def handle_function_call(response_message):\n",
        "  available_functions = {\n",
        "            \"request_forecast_at_location\": request_forecast_at_location,\n",
        "            \"reverse_geo_lookup\": reverse_geo_lookup,\n",
        "            \"add_weather_to_airtable\": add_weather_to_airtable\n",
        "  }\n",
        "  function_name = response_message[\"function_call\"][\"name\"]\n",
        "  if function_name in available_functions.keys():\n",
        "    function_to_call = available_functions[function_name]\n",
        "    function_args = json.loads(response_message[\"function_call\"][\"arguments\"])\n",
        "\n",
        "\n",
        "  if function_name == \"reverse_geo_lookup\":\n",
        "    if isinstance(function_args, list):\n",
        "      function_args = function_args[0]\n",
        "    function_response = function_to_call(\n",
        "        location=function_args.get(\"location\")\n",
        "    )\n",
        "  elif function_name ==\"request_forecast_at_location\":\n",
        "    function_response = function_to_call(\n",
        "        lat=function_args.get(\"lat\"),\n",
        "        lon=function_args.get(\"lon\")\n",
        "    )\n",
        "  elif function_name ==\"add_weather_to_airtable\":\n",
        "    location=function_args.get(\"location\")\n",
        "    temperature=function_args.get(\"temperature\")\n",
        "    weather_summary=function_args.get(\"weather_summary\")\n",
        "    print(location, temperature, weather_summary)\n",
        "    function_response = function_to_call(\n",
        "        location=function_args.get(\"location\"),\n",
        "        temperature=function_args.get(\"temperature\"),\n",
        "        weather_summary=function_args.get(\"weather_summary\"),\n",
        "    )\n",
        "  else:\n",
        "    logging.info(\"function call not in list\\n\", function_name)\n",
        "    logging.info(function_args)\n",
        "    function_response = \"Unknown\"\n",
        "  return function_response\n"
      ],
      "metadata": {
        "id": "V6cCi0zgPG5B"
      },
      "execution_count": 36,
      "outputs": []
    },
    {
      "cell_type": "code",
      "source": [
        "MODEL_NAME = \"gpt-3.5-turbo-0613\""
      ],
      "metadata": {
        "id": "ppY4WA0u40K8"
      },
      "execution_count": 13,
      "outputs": []
    },
    {
      "cell_type": "code",
      "source": [
        "def create_chat_response(messages, include_functions=False):\n",
        "    if include_functions:\n",
        "        response = openai.ChatCompletion.create(\n",
        "            model=MODEL_NAME,\n",
        "            messages=messages,\n",
        "            functions=function_descriptions,\n",
        "            function_call=\"auto\"\n",
        "        )\n",
        "    else:\n",
        "        response = openai.ChatCompletion.create(\n",
        "            model=MODEL_NAME,\n",
        "            messages=messages\n",
        "        )\n",
        "    return response\n"
      ],
      "metadata": {
        "id": "70q6fviE4w9P"
      },
      "execution_count": 14,
      "outputs": []
    },
    {
      "cell_type": "code",
      "execution_count": 67,
      "metadata": {
        "id": "he2R9D7cqNfK"
      },
      "outputs": [],
      "source": [
        "def run_conversation(query):\n",
        "    messages = [{\"role\": \"user\", \"content\": query}]\n",
        "    response = create_chat_response(messages, include_functions=True)\n",
        "\n",
        "    logging.info(query)\n",
        "    response_message = response[\"choices\"][0][\"message\"]\n",
        "\n",
        "    while response_message.get(\"function_call\"):\n",
        "        # call the function\n",
        "        function_name = response_message[\"function_call\"][\"name\"]\n",
        "        logging.info(f\"...Making function call to {function_name}\")\n",
        "\n",
        "        # add the response to the list of messages\n",
        "        function_response = handle_function_call(response_message)\n",
        "        logging.info(f\"\\trecieved response from {function_name}\" )\n",
        "        # logging.info(function_response.replace('\\n',''))\n",
        "\n",
        "        messages.append(\n",
        "            {\n",
        "                \"role\": \"function\",\n",
        "                \"name\": function_name,\n",
        "                \"content\": function_response,\n",
        "            }\n",
        "        )\n",
        "\n",
        "        # Call Chat endpoint with the messages (now containing function response)\n",
        "        second_response = create_chat_response(messages, include_functions=True)\n",
        "        response_message = second_response[\"choices\"][0][\"message\"]\n",
        "        messages.append(response_message)\n",
        "\n",
        "        if response_message.get(\"function_call\"):\n",
        "          function_name = response_message[\"function_call\"][\"name\"]\n",
        "          logging.info(f\"\\nNext function to call: {function_name}\")\n",
        "        else: return second_response\n",
        "\n",
        "\n",
        "    logging.info(messages[len(messages)-1])\n",
        "    final_response = create_chat_response(messages)\n",
        "    final_tokens = final_response[\"usage\"][\"total_tokens\"]\n",
        "\n",
        "    logging.info(\"Done\")\n",
        "    logging.info(\"Total tokens used: %s\", final_tokens )\n",
        "    return final_response\n"
      ]
    },
    {
      "cell_type": "code",
      "source": [
        "request_forecast_at_location(\"37.8044557\",\"-122.271356\")"
      ],
      "metadata": {
        "colab": {
          "base_uri": "https://localhost:8080/",
          "height": 87
        },
        "id": "a8Ge0vOnM8Jr",
        "outputId": "7771c9a0-133d-4f0c-b1fe-7d2dd172f7d1"
      },
      "execution_count": null,
      "outputs": [
        {
          "output_type": "execute_result",
          "data": {
            "text/plain": [
              "'{\"coord\": {\"lon\": -122.2714, \"lat\": 37.8045}, \"weather\": [{\"id\": 801, \"main\": \"Clouds\", \"description\": \"few clouds\", \"icon\": \"02d\"}], \"base\": \"stations\", \"main\": {\"temp\": 292.09, \"feels_like\": 291.58, \"temp_min\": 288.1, \"temp_max\": 297.24, \"pressure\": 1016, \"humidity\": 59}, \"visibility\": 10000, \"wind\": {\"speed\": 12.35, \"deg\": 290, \"gust\": 16.98}, \"clouds\": {\"all\": 20}, \"dt\": 1687216692, \"sys\": {\"type\": 2, \"id\": 2042798, \"country\": \"US\", \"sunrise\": 1687178818, \"sunset\": 1687232032}, \"timezone\": -25200, \"id\": 5378538, \"name\": \"Oakland\", \"cod\": 200}'"
            ],
            "application/vnd.google.colaboratory.intrinsic+json": {
              "type": "string"
            }
          },
          "metadata": {},
          "execution_count": 143
        }
      ]
    },
    {
      "cell_type": "code",
      "source": [
        "result = run_conversation(\"Can you save the temperature in San Jose, CA? I'd like it in Farenheit\")"
      ],
      "metadata": {
        "colab": {
          "base_uri": "https://localhost:8080/"
        },
        "id": "gdyi1OboqUZL",
        "outputId": "60382a75-0bd2-40b1-d170-35274028b702"
      },
      "execution_count": 70,
      "outputs": [
        {
          "output_type": "stream",
          "name": "stderr",
          "text": [
            "INFO:root:Can you save the temperature in San Jose, CA? I'd like it in Farenheit\n",
            "INFO:root:...Making function call to request_forecast_at_location\n",
            "INFO:root:\trecieved response from request_forecast_at_location\n",
            "INFO:root:\n",
            "Next function to call: add_weather_to_airtable\n",
            "INFO:root:...Making function call to add_weather_to_airtable\n"
          ]
        },
        {
          "output_type": "stream",
          "name": "stdout",
          "text": [
            "San Jose, CA 68 Partly cloudy\n"
          ]
        },
        {
          "output_type": "stream",
          "name": "stderr",
          "text": [
            "INFO:root:\trecieved response from add_weather_to_airtable\n"
          ]
        }
      ]
    },
    {
      "cell_type": "code",
      "source": [
        "result[\"choices\"][0][\"message\"][\"content\"]"
      ],
      "metadata": {
        "colab": {
          "base_uri": "https://localhost:8080/",
          "height": 35
        },
        "id": "4ixm4p7-N1Ck",
        "outputId": "2319f753-aa59-418b-db2f-fa279e4c79ec"
      },
      "execution_count": 71,
      "outputs": [
        {
          "output_type": "execute_result",
          "data": {
            "text/plain": [
              "'The temperature in San Jose, CA is 68 degrees Fahrenheit and the weather is partly cloudy. I have saved this information in the Airtable.'"
            ],
            "application/vnd.google.colaboratory.intrinsic+json": {
              "type": "string"
            }
          },
          "metadata": {},
          "execution_count": 71
        }
      ]
    },
    {
      "cell_type": "code",
      "source": [],
      "metadata": {
        "id": "IgfyU9gnKDJr"
      },
      "execution_count": null,
      "outputs": []
    }
  ]
}